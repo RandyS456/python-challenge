{
 "cells": [
  {
   "cell_type": "code",
   "execution_count": 1,
   "id": "6a1460aa-fb15-49b7-8833-6a290dfcc4df",
   "metadata": {},
   "outputs": [
    {
     "name": "stdout",
     "output_type": "stream",
     "text": [
      "Financial Analysis\n",
      "-------------------------\n",
      "Total Months: 86\n",
      "Total: $38382578\n",
      "Average Change: $-2315.12\n",
      "Greatest Increase in Profits: Feb-2012 ($ 1926159)\n",
      "Greatest Decrease in Profits: Sep-2013 ($ -2196167)\n"
     ]
    }
   ],
   "source": [
    "## Python Challenge for financial analysis- PyBank\n",
    "# Import the pathlib and csv library\n",
    "from pathlib import Path\n",
    "import csv\n",
    "\n",
    "#Set the file path\n",
    "csvpath = Path(\"../PyBank/budget_data.csv\")\n",
    "\n",
    "# Initialize variables\n",
    "total_months = 0\n",
    "total_profit_losses = 0\n",
    "previous_profit_loss = 0\n",
    "change_list = []\n",
    "greatest_increase = [\"\", 0]\n",
    "greatest_decrease = [\"\", 0]\n",
    "\n",
    "# Read the CSV file\n",
    "with open(\"../PyBank/budget_data.csv\") as file:\n",
    "    csv_reader = csv.reader(file, delimiter=',')\n",
    "\n",
    "    # Skip header row\n",
    "    next(csv_reader)\n",
    "\n",
    "    # Loop through each row\n",
    "    for row in csv_reader:\n",
    "        # Calculate total months\n",
    "        total_months += 1\n",
    "\n",
    "        # Calculate total profit/losses\n",
    "        total_profit_losses += int(row[1])\n",
    "\n",
    "        # Calculate the change in profit/losses\n",
    "        change = int(row[1]) - previous_profit_loss\n",
    "\n",
    "        # Add the change to the list\n",
    "        change_list.append(change)\n",
    "\n",
    "        # Update the previous profit/loss\n",
    "        previous_profit_loss = int(row[1])\n",
    "\n",
    "        # Find the greatest increase and decrease\n",
    "        if change > greatest_increase[1]:\n",
    "            greatest_increase = [row[0], change]\n",
    "        if change < greatest_decrease[1]:\n",
    "            greatest_decrease = [row[0], change]\n",
    "\n",
    "    # Calculate the average change\n",
    "    average_change = sum(change_list[1:]) / len(change_list[1:])\n",
    "\n",
    "    # Print the financial analysis\n",
    "    print(\"Financial Analysis\")\n",
    "    print(\"-------------------------\")\n",
    "    print(f\"Total Months: {total_months}\")\n",
    "    print(f\"Total: ${total_profit_losses}\")\n",
    "    print(f\"Average Change: ${average_change:.2f}\")\n",
    "    print(f\"Greatest Increase in Profits: {greatest_increase[0]} ($ {greatest_increase[1]})\")\n",
    "    print(f\"Greatest Decrease in Profits: {greatest_decrease[0]} ($ {greatest_decrease[1]})\")"
   ]
  },
  {
   "cell_type": "code",
   "execution_count": null,
   "id": "1b7dcf10-85fc-4a52-b4af-7e67b2f376e4",
   "metadata": {},
   "outputs": [],
   "source": []
  }
 ],
 "metadata": {
  "kernelspec": {
   "display_name": "Python 3 (ipykernel)",
   "language": "python",
   "name": "python3"
  },
  "language_info": {
   "codemirror_mode": {
    "name": "ipython",
    "version": 3
   },
   "file_extension": ".py",
   "mimetype": "text/x-python",
   "name": "python",
   "nbconvert_exporter": "python",
   "pygments_lexer": "ipython3",
   "version": "3.11.5"
  }
 },
 "nbformat": 4,
 "nbformat_minor": 5
}
